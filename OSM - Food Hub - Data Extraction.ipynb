{
 "cells": [
  {
   "cell_type": "markdown",
   "metadata": {},
   "source": [
    "### Set Up"
   ]
  },
  {
   "cell_type": "code",
   "execution_count": 78,
   "metadata": {},
   "outputs": [],
   "source": [
    "#Import packages\n",
    "import pandas as pd\n",
    "from pandas.io.json import json_normalize\n",
    "import requests\n",
    "import json\n",
    "import time"
   ]
  },
  {
   "cell_type": "code",
   "execution_count": 116,
   "metadata": {},
   "outputs": [],
   "source": [
    "url = \"https://lz4.overpass-api.de/api/interpreter\"\n",
    "directory = 'INSERT HERE'"
   ]
  },
  {
   "cell_type": "markdown",
   "metadata": {},
   "source": [
    "### Extract Data"
   ]
  },
  {
   "cell_type": "code",
   "execution_count": 70,
   "metadata": {},
   "outputs": [],
   "source": [
    "#Breaking up the area I'm interested in - probably could be done more efficiently\n",
    "#OSM API bbox defined by bottom left and top right corner, latitude longitude\n",
    "bbox1 = \"(-33.695, 150.214, -32.948, 150.754)\"\n",
    "bbox2 = \"(-33.695, 150.754, -32.948, 151.128)\"\n",
    "bbox3 = \"(-34.432, 149.952, -33.695, 150.653)\"\n",
    "bbox4 = \"(-34.432, 150.653, -33.695, 151.004)\"\n",
    "bbox_list = [bbox1, bbox2, bbox3, bbox4]"
   ]
  },
  {
   "cell_type": "code",
   "execution_count": 71,
   "metadata": {},
   "outputs": [],
   "source": [
    "results_dic = {}"
   ]
  },
  {
   "cell_type": "code",
   "execution_count": 72,
   "metadata": {},
   "outputs": [
    {
     "name": "stdout",
     "output_type": "stream",
     "text": [
      "Step 1 complete\n",
      "Step 2 complete\n",
      "Step 3 complete\n",
      "Step 4 complete\n"
     ]
    }
   ],
   "source": [
    "i = 1\n",
    "for bbox in bbox_list:\n",
    "    \n",
    "    #Query in weird query language\n",
    "    query = f\"\"\"\n",
    "    [out:json];\n",
    "    node[amenity]{bbox};\n",
    "    out;\n",
    "    node[office]{bbox};\n",
    "    out;\n",
    "    node[building]{bbox};\n",
    "    out;\n",
    "    node[shop]{bbox};\n",
    "    out;\n",
    "    \"\"\"\n",
    "    \n",
    "    r = requests.get(url, params={'data': query})\n",
    "    data = r.json()['elements']  # read response as JSON and get the data\n",
    "    \n",
    "    results_dic[\"bbox\" + str(i)] = data\n",
    "    \n",
    "    file_name = \"bbox\" + str(i) + \".json\"\n",
    "    \n",
    "    with codecs.open( directory + file_name, 'w', 'utf-8') as f:\n",
    "        f.write(r.text)\n",
    "        f.close()\n",
    "    \n",
    "    time.sleep(10) \n",
    "    print(\"Step \" + str(i) + \" complete\")\n",
    "    \n",
    "    i = i + 1"
   ]
  },
  {
   "cell_type": "code",
   "execution_count": 90,
   "metadata": {},
   "outputs": [],
   "source": [
    "complete_table = pd.DataFrame()"
   ]
  },
  {
   "cell_type": "code",
   "execution_count": 94,
   "metadata": {},
   "outputs": [],
   "source": [
    "for key in results_dic.keys():\n",
    "    df = json_normalize(results_dic[key])\n",
    "    frames =  [complete_table, df]\n",
    "    complete_table = pd.concat(frames, sort = False)"
   ]
  },
  {
   "cell_type": "code",
   "execution_count": 96,
   "metadata": {},
   "outputs": [],
   "source": [
    "complete_table.to_csv(directory + 'osm_data.csv')"
   ]
  },
  {
   "cell_type": "markdown",
   "metadata": {},
   "source": [
    "### Filter the data to relevant entries\n",
    "Relevant categories determined by manual search of results"
   ]
  },
  {
   "cell_type": "code",
   "execution_count": 97,
   "metadata": {},
   "outputs": [],
   "source": [
    "amenity_filter = [\"cafe\", \"fast_food\", \"convention_centre\", \"food_court\", \"food_hall\"] \n",
    "shop_filter = [\"supermarket\", \"greengrocer\", \"convenience\", \"butcher\", \"bakery\",\n",
    "                \"deli\", \"general_store\", \"confectionery\", \"health_food\", \"chocolate\",\n",
    "               \"wine\", \"seafood\", \"food\", \"gift;bakery\", \"pastry\"]\n",
    "building_filter = [\"farm\", \"farm_auxiliary\"]\n",
    "filters = {\"tags.amenity\":amenity_filter, \"tags.shop\":shop_filter, \"tags.building\":building_filter}"
   ]
  },
  {
   "cell_type": "code",
   "execution_count": 105,
   "metadata": {},
   "outputs": [
    {
     "name": "stdout",
     "output_type": "stream",
     "text": [
      "tags.amenity\n",
      "tags.shop\n",
      "tags.building\n"
     ]
    }
   ],
   "source": [
    "filter_table = pd.DataFrame()\n",
    "for key in filters.keys():\n",
    "    temp = complete_table[complete_table[key].isin(filters[key])]\n",
    "    frames=[filter_table, temp]\n",
    "    filter_table = pd.concat(frames, sort = False)\n",
    "    print(key)"
   ]
  },
  {
   "cell_type": "code",
   "execution_count": 117,
   "metadata": {},
   "outputs": [],
   "source": [
    "filter_table.to_csv(directory + 'filtered_osm_data.csv')"
   ]
  },
  {
   "cell_type": "code",
   "execution_count": 114,
   "metadata": {},
   "outputs": [
    {
     "name": "stdout",
     "output_type": "stream",
     "text": [
      "1794/2060\n"
     ]
    }
   ],
   "source": [
    "#Proportion with names\n",
    "no_named = len(filter_table[\"tags.name\"][pd.notnull(filter_table[\"tags.name\"])])\n",
    "no_total = len(filter_table[\"tags.name\"])\n",
    "print(str(no_named) + '/' + str(no_total))"
   ]
  }
 ],
 "metadata": {
  "kernelspec": {
   "display_name": "Python 3",
   "language": "python",
   "name": "python3"
  },
  "language_info": {
   "codemirror_mode": {
    "name": "ipython",
    "version": 3
   },
   "file_extension": ".py",
   "mimetype": "text/x-python",
   "name": "python",
   "nbconvert_exporter": "python",
   "pygments_lexer": "ipython3",
   "version": "3.7.1"
  }
 },
 "nbformat": 4,
 "nbformat_minor": 2
}
